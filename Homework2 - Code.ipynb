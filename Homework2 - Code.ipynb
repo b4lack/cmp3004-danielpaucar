{
  "metadata": {
    "language_info": {
      "codemirror_mode": {
        "name": "python",
        "version": 3
      },
      "file_extension": ".py",
      "mimetype": "text/x-python",
      "name": "python",
      "nbconvert_exporter": "python",
      "pygments_lexer": "ipython3",
      "version": "3.8"
    },
    "kernelspec": {
      "name": "python",
      "display_name": "Python (Pyodide)",
      "language": "python"
    }
  },
  "nbformat_minor": 4,
  "nbformat": 4,
  "cells": [
    {
      "cell_type": "code",
      "source": "Daniel Paucar / Deber #2 / 00321447",
      "metadata": {},
      "execution_count": null,
      "outputs": []
    },
    {
      "cell_type": "code",
      "source": "1. List and briefly define the possible states that define an instruction execution.",
      "metadata": {},
      "execution_count": null,
      "outputs": []
    },
    {
      "cell_type": "code",
      "source": "El proceso de ejecución de una instrucción en un sistema informático se puede dividir en varias etapas distintas. Estas etapas forman colectivamente el ciclo de ejecución de instrucciones, que es fundamental para el funcionamiento de una computadora. Los siguientes estados describen las posibles etapas de la ejecución de una instrucción:\n\n- Cálculo de Dirección de Instrucción: Durante esta etapa, el sistema calcula la dirección de memoria de la siguiente instrucción a ejecutar.\n\n- Búsqueda de instrucciones: el procesador lee la instrucción desde su ubicación de memoria designada y la carga en el procesador durante esta etapa.\n\n- Decodificación de la operación de la instrucción: En esta etapa, el sistema analiza la instrucción para determinar el tipo de operación a realizar y el operando a utilizar.\n\n- Cálculo de la dirección del operando: si la operación involucra el uso de un operando almacenado en la memoria o disponible a través de E/S, el sistema identifica la dirección de memoria del operando esta etapa.\n\n- Obtención de operando: el sistema recupera el operando de su ubicación de memoria o lo lee desde un dispositivo de E/S durante esta etapa.\n\n- Operación de Datos: El sistema realiza la operación indicada en la instrucción durante esta etapa.\n\n- Almacenamiento de operandos: finalmente, la salida de la operación se vuelve a escribir en la memoria o se envía a un dispositivo de E/S durante esta etapa.\n\nEn resumen, el proceso de ejecución de una instrucción en un sistema informático implica una secuencia de distintas etapas que en conjunto realizan la operación deseada. Estas etapas son críticas para el correcto funcionamiento del sistema y aseguran que las instrucciones se ejecutan de manera consistente y confiable.",
      "metadata": {},
      "execution_count": null,
      "outputs": []
    },
    {
      "cell_type": "code",
      "source": "2. What types of transfers must a computer’s interconnection structure (e.g., bus) support?",
      "metadata": {},
      "execution_count": null,
      "outputs": []
    },
    {
      "cell_type": "code",
      "source": "En un ordenador, el procesador es el \"cerebro\" que hace funcionar todo. Para hacer su trabajo, el procesador necesita acceder a la memoria, donde se almacenan los programas y los datos que se utilizan para procesar la información.\n\nCuando el procesador necesita leer una instrucción o un dato, lo obtiene de la memoria. Y cuando necesita almacenar los resultados de su trabajo, los escribe de vuelta en la memoria.\n\nLos dispositivos periféricos como el teclado, el ratón y la pantalla se conectan al ordenador a través de los módulos de entrada/salida (I/O). Si el procesador necesita leer datos de un dispositivo I/O, los recibe a través del módulo de I/O. Y si necesita enviar datos a un dispositivo I/O, los envía a través del mismo módulo.\n\nEn algunos casos, los datos pueden ser transferidos directamente entre la memoria y los dispositivos periféricos, sin necesidad de pasar por el procesador. Esto se hace mediante el acceso directo a la memoria a través del módulo de I/O. Este tipo de transferencia de datos puede ser más rápida y eficiente que pasar por el procesador, especialmente cuando se transfieren grandes cantidades de datos.\n\nEn resumen, el procesador y la memoria son importantes para el funcionamiento del ordenador, y los módulos de I/O ayudan al procesador a comunicarse con los dispositivos periféricos. En algunos casos, los datos pueden ser transferidos directamente entre la memoria y los dispositivos periféricos, lo que puede ser más rápido y eficiente.",
      "metadata": {},
      "execution_count": null,
      "outputs": []
    },
    {
      "cell_type": "code",
      "source": "3. Consider a hypothetical 32-bit microprocessor having 32-bit instructions composed of two fields: the first byte contains the opcode and the remainder the immediate operand or an operand address.",
      "metadata": {},
      "execution_count": null,
      "outputs": []
    },
    {
      "cell_type": "code",
      "source": "a) What is the maximum directly addressable memory capacity (in bytes)?",
      "metadata": {},
      "execution_count": null,
      "outputs": []
    },
    {
      "cell_type": "code",
      "source": "2^24 - 16.777.216",
      "metadata": {},
      "execution_count": null,
      "outputs": []
    },
    {
      "cell_type": "code",
      "source": "b)  Discuss the impact on the system speed if the microprocessor bus has:\n\n1. 32-bit local address bus and a 16-bit local data bus, or\n2. 16-bit local address bus and a 16-bit local data bus.",
      "metadata": {},
      "execution_count": null,
      "outputs": []
    },
    {
      "cell_type": "code",
      "source": "1. Suponiendo que el bus de direcciones es de 32 bits, la dirección puede transmitirse en un solo ciclo y descifrarse en la memoria. Sin embargo, si el bus de datos está limitado a 16 bits, se requerirán dos ciclos para recuperar una instrucción u operando de 32 bits.\n\n2. En caso de que el bus de direcciones sea solo de 16 bits, no tendrá la capacidad de acceder a toda la memoria. Además, requeriría dos etapas para transmitir la dirección. Además, si el bus de datos está limitado a 16 bits, deberá realizar 2 ciclos para obtener una instrucción u operando de 32 bits.",
      "metadata": {},
      "execution_count": null,
      "outputs": []
    },
    {
      "cell_type": "code",
      "source": "c) How many bits are needed for the program counter and the instruction register?",
      "metadata": {},
      "execution_count": null,
      "outputs": []
    },
    {
      "cell_type": "code",
      "source": "El Instruction Register es 32 bits. El PC es 24 bits",
      "metadata": {},
      "execution_count": null,
      "outputs": []
    },
    {
      "cell_type": "code",
      "source": "4. A microprocessor is clocked at a rate of 5 GHz.",
      "metadata": {},
      "execution_count": null,
      "outputs": []
    },
    {
      "cell_type": "code",
      "source": "a) How long is a clock cycle?",
      "metadata": {},
      "execution_count": null,
      "outputs": []
    },
    {
      "cell_type": "code",
      "source": "La duración del ciclo del reloj se puede calcular dividiendo el recíproco de la frecuencia del reloj.\n\nDuración del ciclo de reloj = 1 / Tasa de reloj\n\nPor tanto, en este caso, la duración del ciclo de reloj sería:\n\n1/5 GHz = 0,0000000002 segundos o 0,2 nanosegundos (ns)\n\nEntonces, la duración del ciclo de reloj del microprocesador es de 0,2 nanosegundos.",
      "metadata": {},
      "execution_count": null,
      "outputs": []
    },
    {
      "cell_type": "code",
      "source": "b) What is the duration of a particular type of machine instruction consisting of three clock cycles?",
      "metadata": {},
      "execution_count": null,
      "outputs": []
    },
    {
      "cell_type": "code",
      "source": "3 x 0,2 ns = 0,6 ns",
      "metadata": {},
      "execution_count": null,
      "outputs": []
    },
    {
      "cell_type": "code",
      "source": "5. Suppose you wish to run a program P with 7.5 x 10^9 instructions on a 5 GHz machine with a CPI of 0.8",
      "metadata": {},
      "execution_count": null,
      "outputs": []
    },
    {
      "cell_type": "code",
      "source": "a) What is the expected CPU time?",
      "metadata": {},
      "execution_count": null,
      "outputs": []
    },
    {
      "cell_type": "code",
      "source": "(7.5 x 10^9) x (0.8) x (1/5x10^9) = 1.5 x 0.8 = 1.2 segundos",
      "metadata": {},
      "execution_count": null,
      "outputs": []
    },
    {
      "cell_type": "code",
      "source": "b) When you run P, it takes 3 seconds of wall clock time to complete. What is the percentage of the CPU time P received?",
      "metadata": {},
      "execution_count": null,
      "outputs": []
    },
    {
      "cell_type": "code",
      "source": "1.2/3 = 40%",
      "metadata": {},
      "execution_count": null,
      "outputs": []
    },
    {
      "cell_type": "code",
      "source": "6. A nonpipelined processor has a clock rate of 2.5 GHz and an average CPI (cycles per instruction) of 4. An upgrade to the processor introduces a five-stage pipeline. However, due to internal pipeline delays, such as latch delay, the clock rate of the new processor has to be reduced to 2 GHz. What is the speedup achieved for a typical program?",
      "metadata": {},
      "execution_count": null,
      "outputs": []
    },
    {
      "cell_type": "code",
      "source": "Tiempo de ejecución para non-pipeline: 4 x 1/2.5 = 1.6ns\nTiempo de ejecución en pipeline: 1 x 1/2 = 0.5ns\nSpeed Up: 1.6 / 0.5 = 3.2",
      "metadata": {},
      "execution_count": null,
      "outputs": []
    }
  ]
}